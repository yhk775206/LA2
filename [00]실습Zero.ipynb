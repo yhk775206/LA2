{
  "nbformat": 4,
  "nbformat_minor": 0,
  "metadata": {
    "colab": {
      "provenance": [],
      "mount_file_id": "1V3jyn7TUOw7tHYQ2m78KlzFDdbg26lVg",
      "authorship_tag": "ABX9TyNyB9E5ODl5ZJikJVPcdHBL",
      "include_colab_link": true
    },
    "kernelspec": {
      "name": "python3",
      "display_name": "Python 3"
    },
    "language_info": {
      "name": "python"
    }
  },
  "cells": [
    {
      "cell_type": "markdown",
      "metadata": {
        "id": "view-in-github",
        "colab_type": "text"
      },
      "source": [
        "<a href=\"https://colab.research.google.com/github/yhk775206/LA2/blob/main/%5B00%5D%EC%8B%A4%EC%8A%B5Zero.ipynb\" target=\"_parent\"><img src=\"https://colab.research.google.com/assets/colab-badge.svg\" alt=\"Open In Colab\"/></a>"
      ]
    },
    {
      "cell_type": "code",
      "execution_count": null,
      "metadata": {
        "colab": {
          "base_uri": "https://localhost:8080/"
        },
        "id": "UtGKu27Z8lrF",
        "outputId": "b4177666-8158-4b94-eb18-cd83995db4a8"
      },
      "outputs": [
        {
          "output_type": "stream",
          "name": "stdout",
          "text": [
            "Hello World\n"
          ]
        }
      ],
      "source": [
        "print(\"Hello World\")"
      ]
    },
    {
      "cell_type": "markdown",
      "source": [
        "##### 라이브러리(패키지) 로드"
      ],
      "metadata": {
        "id": "bd0l8MWRKCJJ"
      }
    },
    {
      "cell_type": "code",
      "source": [
        "import numpy as np"
      ],
      "metadata": {
        "id": "-7ThZrNH-OOS"
      },
      "execution_count": null,
      "outputs": []
    },
    {
      "cell_type": "markdown",
      "source": [
        "#### 2. 벡터, 행렬 연산, 그래프 그리기\n",
        "##### 프린트"
      ],
      "metadata": {
        "id": "0F5qwFrVKN3l"
      }
    },
    {
      "cell_type": "code",
      "source": [
        "def print_val(x):\n",
        "  print(\"Type:\", type(x))\n",
        "  print(\"Shape:\", x.shape)\n",
        "  print(\"값: \\n\", x)\n",
        "  print(\" \")"
      ],
      "metadata": {
        "id": "fBb8M5tQJ5pn"
      },
      "execution_count": null,
      "outputs": []
    },
    {
      "cell_type": "code",
      "source": [
        "x = np.array([1, 2, 3])\n",
        "print_val(x)\n",
        "\n",
        "x[0] = 5\n",
        "print_val(x)"
      ],
      "metadata": {
        "colab": {
          "base_uri": "https://localhost:8080/"
        },
        "id": "egSBDCwyKovH",
        "outputId": "4107cd2d-ca09-4a86-c8ca-dfce542218b4"
      },
      "execution_count": null,
      "outputs": [
        {
          "output_type": "stream",
          "name": "stdout",
          "text": [
            "Type: <class 'numpy.ndarray'>\n",
            "Shape: (3,)\n",
            "값: \n",
            " [1 2 3]\n",
            " \n",
            "Type: <class 'numpy.ndarray'>\n",
            "Shape: (3,)\n",
            "값: \n",
            " [5 2 3]\n",
            " \n"
          ]
        }
      ]
    },
    {
      "cell_type": "code",
      "source": [
        "y = np.array([[1,2,3], [4,5,6]])\n",
        "print_val(y)"
      ],
      "metadata": {
        "colab": {
          "base_uri": "https://localhost:8080/"
        },
        "id": "Hb04saAwLOgW",
        "outputId": "2ab5ddda-6f93-43a3-8bf9-23e9b2386fe4"
      },
      "execution_count": null,
      "outputs": [
        {
          "output_type": "stream",
          "name": "stdout",
          "text": [
            "Type: <class 'numpy.ndarray'>\n",
            "Shape: (2, 3)\n",
            "값: \n",
            " [[1 2 3]\n",
            " [4 5 6]]\n",
            " \n"
          ]
        }
      ]
    },
    {
      "cell_type": "code",
      "source": [
        "a = np.zeros((2,2))\n",
        "print_val(a)"
      ],
      "metadata": {
        "colab": {
          "base_uri": "https://localhost:8080/"
        },
        "id": "dypnYZFYLhNx",
        "outputId": "ad138948-18da-471c-f04a-b6203f2b3ea4"
      },
      "execution_count": null,
      "outputs": [
        {
          "output_type": "stream",
          "name": "stdout",
          "text": [
            "Type: <class 'numpy.ndarray'>\n",
            "Shape: (2, 2)\n",
            "값: \n",
            " [[0. 0.]\n",
            " [0. 0.]]\n",
            " \n"
          ]
        }
      ]
    },
    {
      "cell_type": "code",
      "source": [
        "a = np.ones((3,2))\n",
        "print_val(a)"
      ],
      "metadata": {
        "colab": {
          "base_uri": "https://localhost:8080/"
        },
        "id": "CRQPZaIiLxGT",
        "outputId": "50812b47-9255-4c02-ed64-6d2f7c62cc49"
      },
      "execution_count": null,
      "outputs": [
        {
          "output_type": "stream",
          "name": "stdout",
          "text": [
            "Type: <class 'numpy.ndarray'>\n",
            "Shape: (3, 2)\n",
            "값: \n",
            " [[1. 1.]\n",
            " [1. 1.]\n",
            " [1. 1.]]\n",
            " \n"
          ]
        }
      ]
    },
    {
      "cell_type": "code",
      "source": [
        "a = np.eye(3,3)\n",
        "print_val(a)"
      ],
      "metadata": {
        "colab": {
          "base_uri": "https://localhost:8080/"
        },
        "id": "yvdPUxc8L5eQ",
        "outputId": "e38ef83a-9e0c-406c-a641-04f140da41ba"
      },
      "execution_count": null,
      "outputs": [
        {
          "output_type": "stream",
          "name": "stdout",
          "text": [
            "Type: <class 'numpy.ndarray'>\n",
            "Shape: (3, 3)\n",
            "값: \n",
            " [[1. 0. 0.]\n",
            " [0. 1. 0.]\n",
            " [0. 0. 1.]]\n",
            " \n"
          ]
        }
      ]
    },
    {
      "cell_type": "code",
      "source": [
        "a = np.random.random((4,4))\n",
        "print_val(a)"
      ],
      "metadata": {
        "colab": {
          "base_uri": "https://localhost:8080/"
        },
        "id": "mVLOzhDbMEhV",
        "outputId": "408eac62-dd52-4342-87e0-978d0d71468b"
      },
      "execution_count": null,
      "outputs": [
        {
          "output_type": "stream",
          "name": "stdout",
          "text": [
            "Type: <class 'numpy.ndarray'>\n",
            "Shape: (4, 4)\n",
            "값: \n",
            " [[0.71854187 0.64611134 0.097503   0.80433283]\n",
            " [0.1930785  0.09574521 0.58847221 0.25559805]\n",
            " [0.39232344 0.30151385 0.26551274 0.76858993]\n",
            " [0.83124846 0.55188686 0.69096674 0.75057974]]\n",
            " \n"
          ]
        }
      ]
    },
    {
      "cell_type": "code",
      "source": [
        "a = np.random.randn(4,4)\n",
        "print_val(a)"
      ],
      "metadata": {
        "colab": {
          "base_uri": "https://localhost:8080/"
        },
        "id": "mLoG9c8fMfoT",
        "outputId": "e27534f5-7859-4986-f71f-48ebd056beed"
      },
      "execution_count": null,
      "outputs": [
        {
          "output_type": "stream",
          "name": "stdout",
          "text": [
            "Type: <class 'numpy.ndarray'>\n",
            "Shape: (4, 4)\n",
            "값: \n",
            " [[ 0.11284161 -0.01068591  0.09542687  0.87404957]\n",
            " [ 0.85632645 -0.25939638  0.21517415 -1.12653077]\n",
            " [ 1.21777463 -1.18993305 -0.48635165  1.50824853]\n",
            " [ 0.98481721  2.02234345 -0.10992008 -2.07057658]]\n",
            " \n"
          ]
        }
      ]
    },
    {
      "cell_type": "code",
      "source": [],
      "metadata": {
        "id": "3DxtraK8Mnzy"
      },
      "execution_count": null,
      "outputs": []
    }
  ]
}